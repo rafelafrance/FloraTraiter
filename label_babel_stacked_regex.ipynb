{
 "cells": [
  {
   "cell_type": "code",
   "execution_count": 1,
   "metadata": {},
   "outputs": [],
   "source": [
    "from pathlib import Path\n",
    "\n",
    "import regex\n",
    "import pandas as pd\n",
    "from ipywidgets import interact\n",
    "from IPython.display import display, display_html, HTML\n",
    "import matplotlib.pyplot as plt\n",
    "from PIL import Image\n",
    "\n",
    "from pylib.label_babel.parsers.admin_unit import ADMIN_UNIT\n",
    "from pylib.label_babel.parsers.collector import COLLECTOR\n",
    "from pylib.label_babel.parsers.label_date import LABEL_DATE\n",
    "from pylib.label_babel.parsers.plant_taxon import PLANT_TAXON, PLANT_FAMILY"
   ]
  },
  {
   "cell_type": "code",
   "execution_count": 2,
   "metadata": {},
   "outputs": [],
   "source": [
    "DATA_DIR = Path('.') / 'data' / 'label_babel'\n",
    "\n",
    "VALID_CSV = DATA_DIR / 'label_babel_valid_2020-01-02.csv'\n",
    "TRAIN_CSV = DATA_DIR / 'label_babel_train_2020-01-02.csv'\n",
    "NAMES_CSV = DATA_DIR / 'NYBG_Collectors_2020-01-02.csv'\n",
    "NAME_PARTS_CSV = Path('.') / 'data' / 'name_parts.csv'\n",
    "\n",
    "IMAGE_DIR = Path('..') / 'notes-from-nature' / 'label-babel' / 'data'\n",
    "TYPE_DIR = IMAGE_DIR / 'typewritten'\n",
    "HAND_DIR = IMAGE_DIR / 'handwritten'\n",
    "\n",
    "INPUT_CSV = TRAIN_CSV\n",
    "INPUT_COL = 'predicted_text'\n",
    "\n",
    "SUB_ID = 'subject_id'\n",
    "PRED_CAT = 'predicted_category'"
   ]
  },
  {
   "cell_type": "code",
   "execution_count": 3,
   "metadata": {},
   "outputs": [],
   "source": [
    "df = pd.read_csv(INPUT_CSV, na_filter=False, dtype=str)"
   ]
  },
  {
   "cell_type": "code",
   "execution_count": 4,
   "metadata": {},
   "outputs": [],
   "source": [
    "def show_results(idx):\n",
    "    row = df.loc[idx]\n",
    "    text = row[INPUT_COL]\n",
    "    sub_id = int(row[SUB_ID])\n",
    "    pred_cat = row[PRED_CAT]\n",
    "\n",
    "    path = TYPE_DIR if pred_cat == 'typewritten' else HAND_DIR\n",
    "    path = path / f'{sub_id}.jpg'\n",
    "    image = Image.open(path)\n",
    "\n",
    "    label_date = [d.value for d in LABEL_DATE.parse(text)]\n",
    "    admin_unit = ADMIN_UNIT.parse(text)\n",
    "    us_state = [s for u in admin_unit if (s:= getattr(u, 'us_state'))]\n",
    "    us_county = [c for u in admin_unit if (c:= getattr(u, 'us_county'))]\n",
    "    family = [f.value for f in PLANT_FAMILY.parse(text)]\n",
    "    taxon = [t.value for t in PLANT_TAXON.parse(text)]\n",
    "    collector = COLLECTOR.parse(text)\n",
    "    col_name = [n for c in collector if (n := getattr(c, 'col_name'))]\n",
    "    col_no = [n for c in collector if (n := getattr(c, 'col_no'))]\n",
    "    \n",
    "    print(f'Subject ID:   {sub_id}')\n",
    "    print(f'Category:     {pred_cat}')\n",
    "    print(f'Date:         {label_date}')\n",
    "    print(f'US state:     {us_state}')\n",
    "    print(f'US county:    {us_county}')\n",
    "    print(f'Family:       {family}')\n",
    "    print(f'Taxon:        {taxon}')\n",
    "    print(f'Collector:    {col_name}')\n",
    "    print(f'Collector no: {col_no}')\n",
    "    print()\n",
    "\n",
    "    fig, ax = plt.subplots(1, 1, figsize=(10, 10))\n",
    "    plt.axis('off')\n",
    "\n",
    "    # ax[0].set_axis_off()\n",
    "    # ax[0].text(0, 0.5, text, fontsize=16, verticalalignment='center')\n",
    "\n",
    "    ax.set_axis_off()\n",
    "    ax.imshow(image)\n",
    "    \n",
    "    print(text)\n",
    "    \n",
    "    plt.show()"
   ]
  },
  {
   "cell_type": "code",
   "execution_count": 5,
   "metadata": {
    "scrolled": false
   },
   "outputs": [
    {
     "data": {
      "application/vnd.jupyter.widget-view+json": {
       "model_id": "c0bce57eea374f9eb6b8b6d64a93eef9",
       "version_major": 2,
       "version_minor": 0
      },
      "text/plain": [
       "interactive(children=(IntSlider(value=2432, description='idx', max=4864), Output()), _dom_classes=('widget-int…"
      ]
     },
     "metadata": {},
     "output_type": "display_data"
    }
   ],
   "source": [
    "interact(show_results, idx=(0, df.shape[0] - 1));"
   ]
  },
  {
   "cell_type": "code",
   "execution_count": null,
   "metadata": {},
   "outputs": [],
   "source": []
  },
  {
   "cell_type": "code",
   "execution_count": 7,
   "metadata": {},
   "outputs": [
    {
     "data": {
      "text/html": [
       "<div>\n",
       "<style scoped>\n",
       "    .dataframe tbody tr th:only-of-type {\n",
       "        vertical-align: middle;\n",
       "    }\n",
       "\n",
       "    .dataframe tbody tr th {\n",
       "        vertical-align: top;\n",
       "    }\n",
       "\n",
       "    .dataframe thead th {\n",
       "        text-align: right;\n",
       "    }\n",
       "</style>\n",
       "<table border=\"1\" class=\"dataframe\">\n",
       "  <thead>\n",
       "    <tr style=\"text-align: right;\">\n",
       "      <th></th>\n",
       "      <th>irn</th>\n",
       "      <th>SummaryData</th>\n",
       "      <th>Title</th>\n",
       "      <th>First</th>\n",
       "      <th>Middle</th>\n",
       "      <th>Last</th>\n",
       "      <th>Suffix</th>\n",
       "      <th>FullName</th>\n",
       "      <th>BriefName</th>\n",
       "      <th>CitedName</th>\n",
       "      <th>TaxonomicName</th>\n",
       "      <th>OtherNames</th>\n",
       "      <th>BirthDate</th>\n",
       "      <th>DeathDate</th>\n",
       "      <th>Location</th>\n",
       "      <th>Roles</th>\n",
       "      <th>PeriodOfActivityNotes</th>\n",
       "    </tr>\n",
       "  </thead>\n",
       "  <tbody>\n",
       "    <tr>\n",
       "      <th>0</th>\n",
       "      <td>247901</td>\n",
       "      <td>Person - L. M. A (L M. A); Collector</td>\n",
       "      <td></td>\n",
       "      <td>L</td>\n",
       "      <td>M</td>\n",
       "      <td>A</td>\n",
       "      <td></td>\n",
       "      <td>L M. A</td>\n",
       "      <td>L. M. A</td>\n",
       "      <td></td>\n",
       "      <td>L. M. A</td>\n",
       "      <td></td>\n",
       "      <td></td>\n",
       "      <td></td>\n",
       "      <td></td>\n",
       "      <td>Collector</td>\n",
       "      <td></td>\n",
       "    </tr>\n",
       "    <tr>\n",
       "      <th>1</th>\n",
       "      <td>167839</td>\n",
       "      <td>Person - B. V. A.; Collector; Mexico</td>\n",
       "      <td></td>\n",
       "      <td>B.</td>\n",
       "      <td>V.</td>\n",
       "      <td>A.</td>\n",
       "      <td></td>\n",
       "      <td>B. V. A.</td>\n",
       "      <td>B. V. A.</td>\n",
       "      <td>B. V. A.</td>\n",
       "      <td></td>\n",
       "      <td></td>\n",
       "      <td></td>\n",
       "      <td></td>\n",
       "      <td>Mexico</td>\n",
       "      <td>Collector</td>\n",
       "      <td>Collected on Herb. MEXU, Distrito Federal (197...</td>\n",
       "    </tr>\n",
       "    <tr>\n",
       "      <th>2</th>\n",
       "      <td>247253</td>\n",
       "      <td>Person - R. Alvarado A. (Ramón Alvarado A.); C...</td>\n",
       "      <td></td>\n",
       "      <td>Ramón</td>\n",
       "      <td>Alvarado</td>\n",
       "      <td>A.</td>\n",
       "      <td></td>\n",
       "      <td>Ramón Alvarado A.</td>\n",
       "      <td>R. Alvarado A.</td>\n",
       "      <td>Alvarado A, Ramón</td>\n",
       "      <td></td>\n",
       "      <td>Ramón Alvarado</td>\n",
       "      <td></td>\n",
       "      <td></td>\n",
       "      <td></td>\n",
       "      <td>Collector</td>\n",
       "      <td></td>\n",
       "    </tr>\n",
       "    <tr>\n",
       "      <th>3</th>\n",
       "      <td>137564</td>\n",
       "      <td>Person - A. A. da Luz; Collector; Brazil</td>\n",
       "      <td></td>\n",
       "      <td>A.</td>\n",
       "      <td></td>\n",
       "      <td>A. da Luz</td>\n",
       "      <td></td>\n",
       "      <td>A. A. da Luz</td>\n",
       "      <td>A. A. da Luz</td>\n",
       "      <td>Luz, A. A. da</td>\n",
       "      <td></td>\n",
       "      <td></td>\n",
       "      <td></td>\n",
       "      <td></td>\n",
       "      <td>Brazil</td>\n",
       "      <td>Collector</td>\n",
       "      <td></td>\n",
       "    </tr>\n",
       "    <tr>\n",
       "      <th>4</th>\n",
       "      <td>51290</td>\n",
       "      <td>Person - J. Aalbers; Collector; South Africa</td>\n",
       "      <td></td>\n",
       "      <td>J.</td>\n",
       "      <td></td>\n",
       "      <td>Aalbers</td>\n",
       "      <td></td>\n",
       "      <td>J. Aalbers</td>\n",
       "      <td>J. Aalbers</td>\n",
       "      <td>Aalbers, J.</td>\n",
       "      <td></td>\n",
       "      <td></td>\n",
       "      <td></td>\n",
       "      <td></td>\n",
       "      <td>South Africa</td>\n",
       "      <td>Collector</td>\n",
       "      <td></td>\n",
       "    </tr>\n",
       "  </tbody>\n",
       "</table>\n",
       "</div>"
      ],
      "text/plain": [
       "      irn                                        SummaryData Title  First  \\\n",
       "0  247901               Person - L. M. A (L M. A); Collector            L   \n",
       "1  167839               Person - B. V. A.; Collector; Mexico           B.   \n",
       "2  247253  Person - R. Alvarado A. (Ramón Alvarado A.); C...        Ramón   \n",
       "3  137564           Person - A. A. da Luz; Collector; Brazil           A.   \n",
       "4   51290       Person - J. Aalbers; Collector; South Africa           J.   \n",
       "\n",
       "     Middle       Last Suffix           FullName       BriefName  \\\n",
       "0         M          A                    L M. A         L. M. A   \n",
       "1        V.         A.                  B. V. A.        B. V. A.   \n",
       "2  Alvarado         A.         Ramón Alvarado A.  R. Alvarado A.   \n",
       "3            A. da Luz              A. A. da Luz    A. A. da Luz   \n",
       "4              Aalbers                J. Aalbers      J. Aalbers   \n",
       "\n",
       "           CitedName TaxonomicName      OtherNames BirthDate DeathDate  \\\n",
       "0                          L. M. A                                       \n",
       "1           B. V. A.                                                     \n",
       "2  Alvarado A, Ramón                Ramón Alvarado                       \n",
       "3      Luz, A. A. da                                                     \n",
       "4        Aalbers, J.                                                     \n",
       "\n",
       "       Location      Roles                              PeriodOfActivityNotes  \n",
       "0                Collector                                                     \n",
       "1        Mexico  Collector  Collected on Herb. MEXU, Distrito Federal (197...  \n",
       "2                Collector                                                     \n",
       "3        Brazil  Collector                                                     \n",
       "4  South Africa  Collector                                                     "
      ]
     },
     "execution_count": 7,
     "metadata": {},
     "output_type": "execute_result"
    }
   ],
   "source": [
    "dfn = pd.read_csv(NAMES_CSV, na_filter=False, dtype=str)\n",
    "\n",
    "dfn.head()"
   ]
  },
  {
   "cell_type": "code",
   "execution_count": null,
   "metadata": {},
   "outputs": [],
   "source": []
  },
  {
   "cell_type": "code",
   "execution_count": null,
   "metadata": {},
   "outputs": [],
   "source": [
    "names = set()\n",
    "splitter = regex.compile(r'[^[:alpha:]]+', flags=regex.IGNORECASE)\n",
    "\n",
    "for _, row in dfn.iterrows():\n",
    "    for col in ('Title', 'First', 'Middle', 'Last', 'Suffix'):\n",
    "        names |= {x.lower() \n",
    "                  for x in regex.split(splitter, row[col])\n",
    "                  if x and len(x) > 1}\n",
    "\n",
    "len(names)"
   ]
  },
  {
   "cell_type": "code",
   "execution_count": null,
   "metadata": {},
   "outputs": [],
   "source": [
    "data = {'name': sorted(names)}\n",
    "df2 = pd.DataFrame(data)\n",
    "df2.head()"
   ]
  },
  {
   "cell_type": "code",
   "execution_count": null,
   "metadata": {},
   "outputs": [],
   "source": [
    "# df2.to_csv(NAME_PARTS_CSV, index=False)"
   ]
  },
  {
   "cell_type": "code",
   "execution_count": null,
   "metadata": {},
   "outputs": [],
   "source": []
  },
  {
   "cell_type": "code",
   "execution_count": 8,
   "metadata": {},
   "outputs": [
    {
     "data": {
      "text/plain": [
       "123"
      ]
     },
     "execution_count": 8,
     "metadata": {},
     "output_type": "execute_result"
    }
   ],
   "source": [
    "roles = set()\n",
    "for _, row in dfn.iterrows():\n",
    "    roles |= {x.lower() for x in row['Roles'].split()}\n",
    "    \n",
    "len(roles)"
   ]
  },
  {
   "cell_type": "code",
   "execution_count": 10,
   "metadata": {},
   "outputs": [
    {
     "name": "stdout",
     "output_type": "stream",
     "text": [
      "(american 15th 1st 26th a agriculturist anatomist and army articles/journals artist asian assistant astronomer author authors biochemist biologist botanical botanist botanist/plant brazil british carolina cartographer central civil collection collector collector, collector. collector; columbia conservator contributor- corator corps.) curator curatorial databases department determiner determiner, director director, division, east ecologist ecoparks, editor entomologist entrepreneur exhibition expedition explorer extractor florida former fundación gardener geographer geologist georeferencer georgia greenhouses grower head healer herbarium horticulturalist horticulturist. housemother iabl illustrator in informant inventor iowa keeper lichens, main maine manager manager, mathematician mexico michigan missionary mushroomobserver.org naturalist navy nolen not nova nurseryman of ornithologist photographer plant preparator professor project researcher royal scotia ship south sponsor staff student supervisor surgeon surgeon, the union venezuela visitor volunteers, war. writer zoologist zoophysiologist zulia,\n"
     ]
    }
   ],
   "source": [
    "print(' '.join(sorted(roles)))"
   ]
  },
  {
   "cell_type": "code",
   "execution_count": null,
   "metadata": {},
   "outputs": [],
   "source": []
  },
  {
   "cell_type": "code",
   "execution_count": 9,
   "metadata": {},
   "outputs": [
    {
     "data": {
      "text/plain": [
       "{'filho', 'ii', 'iii', 'jr.', 'sr.'}"
      ]
     },
     "execution_count": 9,
     "metadata": {},
     "output_type": "execute_result"
    }
   ],
   "source": [
    "suffixes = set()\n",
    "for _, row in dfn.iterrows():\n",
    "    suffixes |= {x.lower() for x in row['Suffix'].split()}\n",
    "\n",
    "suffixes"
   ]
  },
  {
   "cell_type": "code",
   "execution_count": 22,
   "metadata": {},
   "outputs": [
    {
     "data": {
      "text/html": [
       "<style>\n",
       ".output_html {\n",
       "    display: flex;\n",
       "    flex-direction: row;\n",
       "}\n",
       ".output_html .row {\n",
       "    color: blue;\n",
       "    margin: 0 20px;\n",
       "}\n",
       "</style>\n",
       "<div class=\"row\">Hello, one!</div>\n",
       "<div class=\"row\">Hello, two!</div>\n"
      ],
      "text/plain": [
       "<IPython.core.display.HTML object>"
      ]
     },
     "metadata": {},
     "output_type": "display_data"
    }
   ],
   "source": [
    "css = \"\"\"\n",
    ".output_html {\n",
    "    display: flex;\n",
    "    flex-direction: row;\n",
    "}\n",
    ".output_html .row {\n",
    "    color: blue;\n",
    "    margin: 0 20px;\n",
    "}\n",
    "\"\"\"\n",
    "html = \"\"\"\n",
    "<div class=\"row\">Hello, one!</div>\n",
    "<div class=\"row\">Hello, two!</div>\n",
    "\"\"\"\n",
    "page = HTML(f'<style>{css}</style>{html}')\n",
    "display(page)\n",
    "# display_html('<h1>Hello, world!</h1>', raw=True)"
   ]
  },
  {
   "cell_type": "code",
   "execution_count": null,
   "metadata": {},
   "outputs": [],
   "source": []
  }
 ],
 "metadata": {
  "kernelspec": {
   "display_name": "Python 3",
   "language": "python",
   "name": "python3"
  },
  "language_info": {
   "codemirror_mode": {
    "name": "ipython",
    "version": 3
   },
   "file_extension": ".py",
   "mimetype": "text/x-python",
   "name": "python",
   "nbconvert_exporter": "python",
   "pygments_lexer": "ipython3",
   "version": "3.8.0"
  },
  "toc": {
   "base_numbering": 1,
   "nav_menu": {},
   "number_sections": true,
   "sideBar": true,
   "skip_h1_title": false,
   "title_cell": "Table of Contents",
   "title_sidebar": "Contents",
   "toc_cell": false,
   "toc_position": {},
   "toc_section_display": true,
   "toc_window_display": false
  }
 },
 "nbformat": 4,
 "nbformat_minor": 2
}
